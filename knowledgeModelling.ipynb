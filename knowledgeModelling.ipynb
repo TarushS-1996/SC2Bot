{
 "cells": [
  {
   "cell_type": "code",
   "execution_count": 6,
   "metadata": {},
   "outputs": [],
   "source": [
    "import pandas as pd\n",
    "import numpy as np\n",
    "import requests\n",
    "import json\n",
    "import bs4\n",
    "from pprint import pprint"
   ]
  },
  {
   "cell_type": "code",
   "execution_count": 17,
   "metadata": {},
   "outputs": [
    {
     "name": "stdout",
     "output_type": "stream",
     "text": [
      "\n",
      "\n",
      "\n",
      "\n",
      "\n",
      "NexusGatewayCybernetics CoreShield Battery\n",
      "Twilight CouncilTemplar Archives\n",
      "Dark ShrineStargateFleet Beacon\n",
      "Robotics FacilityRobotics Bay\n",
      "ForgePhoton Cannon\n",
      "Assimilator\n",
      "Pylon\n",
      "\n",
      "\n",
      "\n",
      "\n"
     ]
    }
   ],
   "source": [
    "link = 'https://liquipedia.net/starcraft2/Protoss_Units_(Legacy_of_the_Void)'\n",
    "resp = requests.get(link)\n",
    "soup = bs4.BeautifulSoup(resp.text, 'html.parser')\n",
    "\n",
    "cont = soup.find_all('div', {'class': 'techtree'})\n",
    "arr = []\n",
    "for c in cont:\n",
    "    arr.append(c.text)\n",
    "\n",
    "print(arr[0])"
   ]
  },
  {
   "cell_type": "code",
   "execution_count": 31,
   "metadata": {},
   "outputs": [
    {
     "data": {
      "text/plain": [
       "'\\n\\n\\n\\n\\nNexusGatewayCybernetics CoreShield Battery\\nTwilight CouncilTemplar Archives\\nDark ShrineStargateFleet Beacon\\nRobotics FacilityRobotics Bay\\nForgePhoton Cannon\\nAssimilator\\nPylon\\n\\n\\n\\n'"
      ]
     },
     "execution_count": 31,
     "metadata": {},
     "output_type": "execute_result"
    }
   ],
   "source": [
    "def getTechTree(lin):\n",
    "    link = lin\n",
    "    resp = requests.get(link)\n",
    "    soup = bs4.BeautifulSoup(resp.text, 'html.parser')\n",
    "\n",
    "    cont = soup.find_all('div', {'class': 'techtree'})\n",
    "    arr = []\n",
    "    for c in cont:\n",
    "        arr.append(c.text)\n",
    "    return arr[0]\n",
    "\n",
    "listOfLinks = [\n",
    "    'https://liquipedia.net/starcraft2/Protoss_Units_(Legacy_of_the_Void)',\n",
    "    'https://liquipedia.net/starcraft2/Terran_Units_(Legacy_of_the_Void)',\n",
    "    'https://liquipedia.net/starcraft2/Terran_Units_(Legacy_of_the_Void)'\n",
    "]\n",
    "\n",
    "terran = getTechTree(listOfLinks[1])\n",
    "zerg = getTechTree(listOfLinks[2])\n",
    "protoss = getTechTree(listOfLinks[0])\n",
    "\n",
    "### use \\n to print the string in a more readable way\n",
    "print(terran)"
   ]
  },
  {
   "cell_type": "code",
   "execution_count": null,
   "metadata": {},
   "outputs": [],
   "source": []
  }
 ],
 "metadata": {
  "kernelspec": {
   "display_name": "SC2Bot",
   "language": "python",
   "name": "python3"
  },
  "language_info": {
   "codemirror_mode": {
    "name": "ipython",
    "version": 3
   },
   "file_extension": ".py",
   "mimetype": "text/x-python",
   "name": "python",
   "nbconvert_exporter": "python",
   "pygments_lexer": "ipython3",
   "version": "3.11.0"
  }
 },
 "nbformat": 4,
 "nbformat_minor": 2
}
